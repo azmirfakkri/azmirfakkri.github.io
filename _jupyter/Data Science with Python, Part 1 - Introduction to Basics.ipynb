{
 "cells": [
  {
   "cell_type": "markdown",
   "metadata": {},
   "source": [
    "This is the first post for Data Science with Python series. \n",
    "\n",
    "Python 3 is used for all articles related to Python in my blog. Blog posts for this series are created using Jupyter Notebook.\n",
    "\n",
    "# Introduction\n",
    "\n",
    "Just like R, you can use Python as a calculator. But Python is versatile programming language that it can do so much more!\n",
    "\n",
    "# Assigning Value to a Variable \n",
    "\n",
    "In R, we usually use this sign to assign a value to a variable `<-`, but in Python, it is simply this `=`."
   ]
  },
  {
   "cell_type": "code",
   "execution_count": 62,
   "metadata": {},
   "outputs": [
    {
     "data": {
      "text/plain": [
       "20"
      ]
     },
     "execution_count": 62,
     "metadata": {},
     "output_type": "execute_result"
    }
   ],
   "source": [
    "# Assign 20 to x\n",
    "x = 20\n",
    "\n",
    "# Print x\n",
    "x"
   ]
  },
  {
   "cell_type": "markdown",
   "metadata": {},
   "source": [
    "# Python Data Types \n",
    "\n",
    "Let's learn about the data types in Python. \n",
    "\n",
    "1. Integer - for example 20, it has no fractional part \n",
    "2. Float - for example 20.50, it has an integer and fractional parts\n",
    "3. String - for example 'my dogs', they are texts and need to be wrapped in a single or double quotation marks (also known as character in R)\n",
    "4. Boolean - `True` or `False` (in R, these are spelled with all capital letters)\n",
    "5. List\n",
    "\n",
    "To see the data types you can simply use this function `type()`"
   ]
  },
  {
   "cell_type": "code",
   "execution_count": null,
   "metadata": {},
   "outputs": [],
   "source": [
    "a = 20.50\n",
    "b = 'my dogs'\n",
    "c = True\n",
    "\n",
    "# Check data type of x\n",
    "type(x)"
   ]
  },
  {
   "cell_type": "code",
   "execution_count": null,
   "metadata": {},
   "outputs": [],
   "source": [
    "# Check data type of a\n",
    "type(a)"
   ]
  },
  {
   "cell_type": "code",
   "execution_count": null,
   "metadata": {},
   "outputs": [],
   "source": [
    "# Check data type of b\n",
    "type(b)"
   ]
  },
  {
   "cell_type": "code",
   "execution_count": null,
   "metadata": {},
   "outputs": [],
   "source": [
    "# Check data type of c\n",
    "type(c)"
   ]
  },
  {
   "cell_type": "markdown",
   "metadata": {},
   "source": [
    "## Data Conversion\n",
    "\n",
    "In Python, you can do data conversion easily by using these functions: `int()`, `float()`, `str()` and `bool()`.\n",
    "For example, when you want to print a message containing data of different types."
   ]
  },
  {
   "cell_type": "code",
   "execution_count": null,
   "metadata": {},
   "outputs": [],
   "source": [
    "'A trip to the vet with my dog will cost me ' + 20.50"
   ]
  },
  {
   "cell_type": "markdown",
   "metadata": {},
   "source": [
    "I can easily fix this error by converting the float into string."
   ]
  },
  {
   "cell_type": "code",
   "execution_count": null,
   "metadata": {},
   "outputs": [],
   "source": [
    "'A trip to the vet with my dog will cost me €' + str(20.50)"
   ]
  },
  {
   "cell_type": "markdown",
   "metadata": {},
   "source": [
    "## List\n",
    "\n",
    "List is another data type in Python. Just like R, list can store different types of data. A list can also contain lists. "
   ]
  },
  {
   "cell_type": "code",
   "execution_count": null,
   "metadata": {},
   "outputs": [],
   "source": [
    "# Create a list\n",
    "doggies = ['Jodi', 'Loki', 'Ru', 'Pip', 'Bear']"
   ]
  },
  {
   "cell_type": "code",
   "execution_count": null,
   "metadata": {},
   "outputs": [],
   "source": [
    "# Create sublists in list\n",
    "doggies = [['Jodi', 3], ['Loki', 2], ['Ru', 1], ['Pip', 2], ['Bear', 4]]"
   ]
  },
  {
   "cell_type": "markdown",
   "metadata": {},
   "source": [
    "### Subsetting List\n",
    "\n",
    "Different from R, in Python, the index starts at 0 and not 1. \n",
    "To access the element in the list, you use `[]`. In our doggies list, we have 5 sublists."
   ]
  },
  {
   "cell_type": "code",
   "execution_count": null,
   "metadata": {},
   "outputs": [],
   "source": [
    "# Access first sublist\n",
    "doggies[0]"
   ]
  },
  {
   "cell_type": "code",
   "execution_count": null,
   "metadata": {},
   "outputs": [],
   "source": [
    "# Access second element in the first sublist\n",
    "doggies[0][1]"
   ]
  },
  {
   "cell_type": "markdown",
   "metadata": {},
   "source": [
    "### Slicing List\n",
    "\n",
    "Let's say we want to get the first, second and third sublists. We can slice the list like this `list[start:end]`.  \n",
    "<span style=\"color:#FF0000\">Important:</span> In Python, the index specified for end is not inclusive."
   ]
  },
  {
   "cell_type": "code",
   "execution_count": null,
   "metadata": {},
   "outputs": [],
   "source": [
    "# Get first to third sublist \n",
    "doggies[0:3]"
   ]
  },
  {
   "cell_type": "markdown",
   "metadata": {},
   "source": [
    "Notice that index 3 refers to `['Pip', 2]`, but because the `end` index is not inclusive, it will not be included in the result. \n",
    "\n",
    "### Changing Elements in List\n",
    "\n",
    "We noticed that we made an error with Pip's age, she's not 2 but she's 3 and she has an extra p in her name! Let's changes this in our list. "
   ]
  },
  {
   "cell_type": "code",
   "execution_count": null,
   "metadata": {},
   "outputs": [],
   "source": [
    "# Change Pip's age \n",
    "doggies[3] = ['Pipp', 3]\n",
    "\n",
    "# View updated doggies list\n",
    "doggies"
   ]
  },
  {
   "cell_type": "markdown",
   "metadata": {},
   "source": [
    "And we also noticed Bear is 4, when he is only a pupper! "
   ]
  },
  {
   "cell_type": "code",
   "execution_count": null,
   "metadata": {},
   "outputs": [],
   "source": [
    "# Change Bear's age\n",
    "doggies[4][1] = 1\n",
    "\n",
    "# View updated doggies list\n",
    "doggies"
   ]
  },
  {
   "cell_type": "markdown",
   "metadata": {},
   "source": [
    "### Adding and Deleting Elements in List\n",
    "\n",
    "We can easily add element to the list by using `+` sign."
   ]
  },
  {
   "cell_type": "code",
   "execution_count": null,
   "metadata": {},
   "outputs": [],
   "source": [
    "# Add another doggo into the list as a sublist (double bracket)\n",
    "doggies = doggies + [['Fudge', 2]]\n",
    "\n",
    "# View updated doggies list\n",
    "doggies"
   ]
  },
  {
   "cell_type": "markdown",
   "metadata": {},
   "source": [
    "Note that as we are adding another sublist, we need to use double brackets instead of single.\n",
    "\n",
    "If we want to remove one of the sublist, we do this using `del()`."
   ]
  },
  {
   "cell_type": "code",
   "execution_count": null,
   "metadata": {},
   "outputs": [],
   "source": [
    "# Remove Pipp\n",
    "del(doggies[3])\n",
    "\n",
    "# View updated doggies list\n",
    "doggies"
   ]
  },
  {
   "cell_type": "markdown",
   "metadata": {},
   "source": [
    "### Copying a List\n",
    "\n",
    "To copy a list (its elements), we can do it in two ways. "
   ]
  },
  {
   "cell_type": "code",
   "execution_count": null,
   "metadata": {},
   "outputs": [],
   "source": [
    "# Using list()\n",
    "doggies_copy1 = list(doggies)\n",
    "\n",
    "# Using :\n",
    "doggies_copy2 = doggies[:]"
   ]
  },
  {
   "cell_type": "markdown",
   "metadata": {},
   "source": [
    "<span style=\"color:#FF0000\">Important:</span> Do not copy a list like this `doggies_copy1 = doggies` as this is only copying the reference of the location of the list in your machine. "
   ]
  },
  {
   "cell_type": "markdown",
   "metadata": {},
   "source": [
    "# Functions and Methods\n",
    "\n",
    "## Difference between Function and Method\n",
    "\n",
    "Function is a 'black box' of codes which will produce an output. In Python, everything is an object. Like string, integer and Boolean, they are objects. Function is independent of object. It can be called on different types of object in Python.\n",
    "\n",
    "Unlike function, method is dependent on object. It can only be called on specific object. Different type of object will have different set of methods that can be used on the data passed in the method. \n",
    "\n",
    "Let's look at a few useful functions and methods for every data type in Python. \n",
    "\n",
    "## Functions\n",
    "\n",
    "`len()` - finding length "
   ]
  },
  {
   "cell_type": "code",
   "execution_count": null,
   "metadata": {},
   "outputs": [],
   "source": [
    "# Find length of doggies\n",
    "len(doggies)"
   ]
  },
  {
   "cell_type": "markdown",
   "metadata": {},
   "source": [
    "`?` - To get help with any function in Python, use `?` before the function name like this `?type`\n",
    "\n",
    "`sorted()` - sort data"
   ]
  },
  {
   "cell_type": "code",
   "execution_count": null,
   "metadata": {},
   "outputs": [],
   "source": [
    "# Sort data alphabetically\n",
    "sorted(doggies)"
   ]
  },
  {
   "cell_type": "markdown",
   "metadata": {},
   "source": [
    "## Methods\n",
    "\n",
    "### String Methods\n",
    "\n",
    "1. `upper()` - capitalise letters\n",
    "2. `count()` - count number of letters \n",
    "\n",
    "When you want to use methods, the syntax is just very slighty different from functions. Instead of passing the object in the bracket, you do it like this, `object.method()`."
   ]
  },
  {
   "cell_type": "code",
   "execution_count": null,
   "metadata": {},
   "outputs": [],
   "source": [
    "# Create a variable containing string\n",
    "wine = 'pinot noir'\n",
    "\n",
    "# Capitalise letters\n",
    "wine.upper()"
   ]
  },
  {
   "cell_type": "code",
   "execution_count": null,
   "metadata": {},
   "outputs": [],
   "source": [
    "# Count number of n \n",
    "wine.count('n')"
   ]
  },
  {
   "cell_type": "markdown",
   "metadata": {},
   "source": [
    "### List Methods\n",
    "\n",
    "1. `index()` - find the index of the first matched element in the list \n",
    "2. `count()` - find the number of appearance of an element in a list \n",
    "3. `append()` - adds an element to a list \n",
    "4. `remove()` - delete the first element that matches the input \n",
    "5. `reverse()` - reverse the order of elements in the list"
   ]
  },
  {
   "cell_type": "code",
   "execution_count": 63,
   "metadata": {},
   "outputs": [
    {
     "data": {
      "text/plain": [
       "1"
      ]
     },
     "execution_count": 63,
     "metadata": {},
     "output_type": "execute_result"
    }
   ],
   "source": [
    "# Create a list containing strings\n",
    "wine_list = ['pinot noir', 'cabernet sauvignon', 'prosecco', 'malbec', 'cabernet sauvignon']\n",
    "\n",
    "# Find the index of the first cabernet sauvignon\n",
    "wine_list.index('cabernet sauvignon')"
   ]
  },
  {
   "cell_type": "code",
   "execution_count": 64,
   "metadata": {},
   "outputs": [
    {
     "data": {
      "text/plain": [
       "2"
      ]
     },
     "execution_count": 64,
     "metadata": {},
     "output_type": "execute_result"
    }
   ],
   "source": [
    "# Count number cabernet sauvignon in the list\n",
    "wine_list.count('cabernet sauvignon')"
   ]
  },
  {
   "cell_type": "code",
   "execution_count": 65,
   "metadata": {},
   "outputs": [
    {
     "data": {
      "text/plain": [
       "['pinot noir',\n",
       " 'cabernet sauvignon',\n",
       " 'prosecco',\n",
       " 'malbec',\n",
       " 'cabernet sauvignon',\n",
       " 'sauvignon blanc']"
      ]
     },
     "execution_count": 65,
     "metadata": {},
     "output_type": "execute_result"
    }
   ],
   "source": [
    "# Add sauvignon blanc\n",
    "wine_list.append('sauvignon blanc')\n",
    "\n",
    "# View updated wine_list\n",
    "wine_list"
   ]
  },
  {
   "cell_type": "code",
   "execution_count": 66,
   "metadata": {},
   "outputs": [
    {
     "data": {
      "text/plain": [
       "['pinot noir', 'prosecco', 'malbec', 'cabernet sauvignon', 'sauvignon blanc']"
      ]
     },
     "execution_count": 66,
     "metadata": {},
     "output_type": "execute_result"
    }
   ],
   "source": [
    "# Delete first matched element: cabernet sauvignon\n",
    "wine_list.remove('cabernet sauvignon')\n",
    "\n",
    "# View updated wine_list\n",
    "wine_list"
   ]
  },
  {
   "cell_type": "code",
   "execution_count": 67,
   "metadata": {},
   "outputs": [
    {
     "data": {
      "text/plain": [
       "['sauvignon blanc', 'cabernet sauvignon', 'malbec', 'prosecco', 'pinot noir']"
      ]
     },
     "execution_count": 67,
     "metadata": {},
     "output_type": "execute_result"
    }
   ],
   "source": [
    "# Reverse order\n",
    "wine_list.reverse()\n",
    "\n",
    "# View updated wine_list\n",
    "wine_list"
   ]
  },
  {
   "cell_type": "markdown",
   "metadata": {},
   "source": [
    "# Importing Packages\n",
    "\n",
    "Python has a lot of useful packages that can help you with your data analysis. For example, the NumPy and pandas. \n",
    "To be able to use these packages, you will need to import them.\n",
    "\n",
    "Three things to note when importing packages:\n",
    "1. You can import the whole package or import parts of the package \n",
    "2. You can abbreviate the name of the packages"
   ]
  },
  {
   "cell_type": "code",
   "execution_count": 68,
   "metadata": {},
   "outputs": [],
   "source": [
    "# Import whole packages and abbreviate\n",
    "import numpy as np\n",
    "import pandas as pd\n",
    "\n",
    "# Import part of a package\n",
    "from matplotlib import style"
   ]
  },
  {
   "cell_type": "markdown",
   "metadata": {},
   "source": [
    "In the second part of Data Science with Python series, we will learn two packages in detail, NumPy and Pandas."
   ]
  }
 ],
 "metadata": {
  "kernelspec": {
   "display_name": "Python 3",
   "language": "python",
   "name": "python3"
  },
  "language_info": {
   "codemirror_mode": {
    "name": "ipython",
    "version": 3
   },
   "file_extension": ".py",
   "mimetype": "text/x-python",
   "name": "python",
   "nbconvert_exporter": "python",
   "pygments_lexer": "ipython3",
   "version": "3.6.4"
  }
 },
 "nbformat": 4,
 "nbformat_minor": 2
}
